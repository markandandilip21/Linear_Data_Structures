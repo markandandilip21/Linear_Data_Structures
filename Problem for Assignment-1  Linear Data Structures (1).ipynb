{
 "cells": [
  {
   "cell_type": "code",
   "execution_count": 11,
   "id": "ffc82d24",
   "metadata": {},
   "outputs": [
    {
     "name": "stdout",
     "output_type": "stream",
     "text": [
      "[(3, 4), (5, 2), (4, 3)]\n"
     ]
    }
   ],
   "source": [
    "#Q1. Write a program to find all pairs of an integer array whose sum is equal to a given number?\n",
    "def find_pairs_with_sum(arr, target_sum):\n",
    "    pairs = []\n",
    "    seen = set()\n",
    "\n",
    "    for num in arr:\n",
    "        complement = target_sum - num\n",
    "        if complement in seen:\n",
    "            pairs.append((num, complement))\n",
    "        seen.add(num)\n",
    "\n",
    "    return pairs\n",
    "arr = [2, 4, 3, 5, 6, -2, 4, 7]\n",
    "target_sum = 7\n",
    "print(find_pairs_with_sum(arr, target_sum))\n"
   ]
  },
  {
   "cell_type": "code",
   "execution_count": 12,
   "id": "a6ebab10",
   "metadata": {},
   "outputs": [
    {
     "name": "stdout",
     "output_type": "stream",
     "text": [
      "[5, 4, 3, 2, 1]\n"
     ]
    }
   ],
   "source": [
    "#Q2. Write a program to reverse an array in place? In place means you cannot create a new array. \n",
    "#You have to update the original array.#\n",
    "def reverse_array_in_place(arr):\n",
    "    start = 0\n",
    "    end = len(arr) - 1\n",
    "\n",
    "    while start < end:\n",
    "        arr[start], arr[end] = arr[end], arr[start]\n",
    "        start += 1\n",
    "        end -= 1\n",
    "arr = [1, 2, 3, 4, 5]\n",
    "reverse_array_in_place(arr)\n",
    "print(arr)\n"
   ]
  },
  {
   "cell_type": "code",
   "execution_count": 13,
   "id": "f2a1b406",
   "metadata": {},
   "outputs": [
    {
     "name": "stdout",
     "output_type": "stream",
     "text": [
      "True\n"
     ]
    }
   ],
   "source": [
    "#Q3. Write a program to check if two strings are a rotation of each other?\n",
    "def are_rotations(str1, str2):\n",
    "    if len(str1) != len(str2):\n",
    "        return False\n",
    "\n",
    "    concatenated = str1 + str1\n",
    "    return str2 in concatenated\n",
    "s1 = \"abcd\"\n",
    "s2 = \"cdab\"\n",
    "print(are_rotations(s1, s2))\n"
   ]
  },
  {
   "cell_type": "code",
   "execution_count": 14,
   "id": "ccebfe60",
   "metadata": {},
   "outputs": [
    {
     "name": "stdout",
     "output_type": "stream",
     "text": [
      "d\n"
     ]
    }
   ],
   "source": [
    "#Q4. Write a program to print the first non-repeated character from a string?\n",
    "from collections import Counter\n",
    "\n",
    "def first_non_repeated_char(s):\n",
    "    char_count = Counter(s)\n",
    "    for char in s:\n",
    "        if char_count[char] == 1:\n",
    "            return char\n",
    "    return None\n",
    "string = \"aabbccd\"\n",
    "print(first_non_repeated_char(string))\n"
   ]
  },
  {
   "cell_type": "code",
   "execution_count": 15,
   "id": "8f2239d3",
   "metadata": {},
   "outputs": [
    {
     "name": "stdout",
     "output_type": "stream",
     "text": [
      "Move disc 1 from A to C\n",
      "Move disc 2 from A to B\n",
      "Move disc 1 from C to B\n",
      "Move disc 3 from A to C\n",
      "Move disc 1 from B to A\n",
      "Move disc 2 from B to C\n",
      "Move disc 1 from A to C\n"
     ]
    }
   ],
   "source": [
    "#Q5. Read about the Tower of Hanoi algorithm. Write a program to implement it.\n",
    "def tower_of_hanoi(n, source, auxiliary, target):\n",
    "    if n > 0:\n",
    "        \n",
    "        tower_of_hanoi(n - 1, source, target, auxiliary)\n",
    "  \n",
    "        print(f\"Move disc {n} from {source} to {target}\")\n",
    "\n",
    "        tower_of_hanoi(n - 1, auxiliary, source, target)\n",
    "tower_of_hanoi(3, 'A', 'B', 'C')\n"
   ]
  },
  {
   "cell_type": "code",
   "execution_count": 16,
   "id": "f133c56e",
   "metadata": {},
   "outputs": [
    {
     "name": "stdout",
     "output_type": "stream",
     "text": [
      "*+abc\n"
     ]
    }
   ],
   "source": [
    "#Q6. Read about infix, prefix, and postfix expressions. Write a program to convert postfix to prefix expression.\n",
    "def postfix_to_prefix(expression):\n",
    "    stack = []\n",
    "\n",
    "    for token in expression:\n",
    "        if token.isalnum():\n",
    "            stack.append(token)\n",
    "        else:\n",
    "            operand2 = stack.pop()\n",
    "            operand1 = stack.pop()\n",
    "            stack.append(token + operand1 + operand2)\n",
    "\n",
    "    return stack[0]\n",
    "postfix_exp = \"ab+c*\"\n",
    "prefix_exp = postfix_to_prefix(postfix_exp)\n",
    "print(prefix_exp)\n"
   ]
  },
  {
   "cell_type": "code",
   "execution_count": 17,
   "id": "3ffc85da",
   "metadata": {},
   "outputs": [
    {
     "name": "stdout",
     "output_type": "stream",
     "text": [
      "((a+b)*(c-d))\n"
     ]
    }
   ],
   "source": [
    "#Q7. Write a program to convert prefix expression to infix expression.\n",
    "def is_operator(char):\n",
    "    return char in \"+-*/\"\n",
    "\n",
    "def prefix_to_infix(expression):\n",
    "    stack = []\n",
    "\n",
    "    for token in reversed(expression):\n",
    "        if not is_operator(token):\n",
    "            stack.append(token)\n",
    "        else:\n",
    "            operand1 = stack.pop()\n",
    "            operand2 = stack.pop()\n",
    "            infix = f\"({operand1}{token}{operand2})\"\n",
    "            stack.append(infix)\n",
    "\n",
    "    return stack[0]\n",
    "prefix_exp = \"*+ab-cd\"\n",
    "infix_exp = prefix_to_infix(prefix_exp)\n",
    "print(infix_exp)\n"
   ]
  },
  {
   "cell_type": "code",
   "execution_count": 20,
   "id": "fd44d75a",
   "metadata": {},
   "outputs": [
    {
     "name": "stdout",
     "output_type": "stream",
     "text": [
      "True\n"
     ]
    }
   ],
   "source": [
    "#Q8. Write a program to check if all the brackets are closed in a given code snippet.\n",
    "def are_brackets_balanced(code):\n",
    "    stack = []\n",
    "    opening_brackets = \"([{\"\n",
    "    closing_brackets = \")]}\"\n",
    "\n",
    "    for char in code:\n",
    "        if char in opening_brackets:\n",
    "            stack.append(char)\n",
    "        elif char in closing_brackets:\n",
    "            if not stack or opening_brackets.index(stack.pop()) != closing_brackets.index(char):\n",
    "                return False\n",
    "    return len(stack) == 0\n",
    "code_snippet = \"{[()()]}\"\n",
    "print(are_brackets_balanced(code_snippet))\n"
   ]
  },
  {
   "cell_type": "code",
   "execution_count": 19,
   "id": "94237558",
   "metadata": {},
   "outputs": [
    {
     "name": "stdout",
     "output_type": "stream",
     "text": [
      "[5, 4, 3, 2, 1]\n"
     ]
    }
   ],
   "source": [
    "#Q9. Write a program to reverse a stack.\n",
    "def reverse_stack(stack):\n",
    "    aux_stack = []\n",
    "    while stack:\n",
    "        aux_stack.append(stack.pop())\n",
    "    return aux_stack\n",
    "stack = [1, 2, 3, 4, 5]\n",
    "reversed_stack = reverse_stack(stack)\n",
    "print(reversed_stack)\n"
   ]
  },
  {
   "cell_type": "code",
   "execution_count": 10,
   "id": "3dab7670",
   "metadata": {},
   "outputs": [
    {
     "name": "stdout",
     "output_type": "stream",
     "text": [
      "1\n",
      "2\n"
     ]
    }
   ],
   "source": [
    "#Q10. Write a program to find the smallest number using a stack.\n",
    "class MinStack:\n",
    "    def __init__(self):\n",
    "        self.stack = []\n",
    "        self.min_stack = []\n",
    "\n",
    "    def push(self, x):\n",
    "        self.stack.append(x)\n",
    "        if not self.min_stack or x <= self.min_stack[-1]:\n",
    "            self.min_stack.append(x)\n",
    "\n",
    "    def pop(self):\n",
    "        if self.stack:\n",
    "            if self.stack[-1] == self.min_stack[-1]:\n",
    "                self.min_stack.pop()\n",
    "            return self.stack.pop()\n",
    "\n",
    "    def get_min(self):\n",
    "        if self.min_stack:\n",
    "            return self.min_stack[-1]\n",
    "stack = MinStack()\n",
    "stack.push(3)\n",
    "stack.push(5)\n",
    "stack.push(2)\n",
    "stack.push(1)\n",
    "print(stack.get_min())  \n",
    "stack.pop()\n",
    "print(stack.get_min())  \n"
   ]
  },
  {
   "cell_type": "code",
   "execution_count": null,
   "id": "f0d7d1b7",
   "metadata": {},
   "outputs": [],
   "source": []
  }
 ],
 "metadata": {
  "kernelspec": {
   "display_name": "Python 3 (ipykernel)",
   "language": "python",
   "name": "python3"
  },
  "language_info": {
   "codemirror_mode": {
    "name": "ipython",
    "version": 3
   },
   "file_extension": ".py",
   "mimetype": "text/x-python",
   "name": "python",
   "nbconvert_exporter": "python",
   "pygments_lexer": "ipython3",
   "version": "3.10.9"
  }
 },
 "nbformat": 4,
 "nbformat_minor": 5
}
